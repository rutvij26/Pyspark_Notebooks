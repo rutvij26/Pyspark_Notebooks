{
 "cells": [
  {
   "cell_type": "code",
   "execution_count": 1,
   "metadata": {},
   "outputs": [
    {
     "name": "stdout",
     "output_type": "stream",
     "text": [
      "22/07/16 10:09:13 WARN Utils: Your hostname, Rutvijs-MacBook-Pro.local resolves to a loopback address: 127.0.0.1; using 10.0.0.119 instead (on interface en0)\n",
      "22/07/16 10:09:13 WARN Utils: Set SPARK_LOCAL_IP if you need to bind to another address\n"
     ]
    },
    {
     "name": "stderr",
     "output_type": "stream",
     "text": [
      "Setting default log level to \"WARN\".\n",
      "To adjust logging level use sc.setLogLevel(newLevel). For SparkR, use setLogLevel(newLevel).\n"
     ]
    },
    {
     "name": "stdout",
     "output_type": "stream",
     "text": [
      "22/07/16 10:09:13 WARN NativeCodeLoader: Unable to load native-hadoop library for your platform... using builtin-java classes where applicable\n"
     ]
    }
   ],
   "source": [
    "from pyspark.sql import SparkSession\n",
    "from pyspark.sql.functions import *\n",
    "from pyspark.sql.types import * \n",
    "import numpy as np\n",
    "\n",
    "spark = SparkSession.builder.master(\"local[*]\").getOrCreate()\n",
    "spark.conf.set(\"spark.sql.repl.eagerEval.enabled\", True)\n",
    "sc = spark.sparkContext"
   ]
  },
  {
   "cell_type": "markdown",
   "metadata": {},
   "source": [
    "Data Fetched From Canada Open Government Data Website\n",
    "\n",
    "Link: https://open.canada.ca/data/en/dataset/4301f4bb-1daa-4b50-afab-d1193b5d2284"
   ]
  },
  {
   "cell_type": "code",
   "execution_count": 2,
   "metadata": {},
   "outputs": [
    {
     "name": "stderr",
     "output_type": "stream",
     "text": [
      "                                                                                \r"
     ]
    },
    {
     "data": {
      "text/plain": [
       "8832277"
      ]
     },
     "execution_count": 2,
     "metadata": {},
     "output_type": "execute_result"
    }
   ],
   "source": [
    "# Load csv's\n",
    "\n",
    "path = \"./data/*.csv\"\n",
    "\n",
    "df = spark.read.format(\"csv\")       \\\n",
    "    .option(\"header\",\"true\")        \\\n",
    "    .option(\"inferSchema\",\"True\")   \\\n",
    "    .load(path)\n",
    "\n",
    "df.count()"
   ]
  },
  {
   "cell_type": "code",
   "execution_count": 3,
   "metadata": {},
   "outputs": [
    {
     "name": "stdout",
     "output_type": "stream",
     "text": [
      "root\n",
      " |-- LEVEL1ID: integer (nullable = true)\n",
      " |-- LEVEL2ID: integer (nullable = true)\n",
      " |-- LEVEL3ID: integer (nullable = true)\n",
      " |-- LEVEL4ID: integer (nullable = true)\n",
      " |-- LEVEL5ID: integer (nullable = true)\n",
      " |-- SURVEYR: integer (nullable = true)\n",
      " |-- BYCOND: string (nullable = true)\n",
      " |-- DESCRIP_E: string (nullable = true)\n",
      " |-- DESCRIP_F: string (nullable = true)\n",
      " |-- DEMCODE: string (nullable = true)\n",
      " |-- QUESTION: string (nullable = true)\n",
      " |-- TITLE_E: string (nullable = true)\n",
      " |-- TITLE_F: string (nullable = true)\n",
      " |-- ANSWER1: string (nullable = true)\n",
      " |-- ANSWER2: string (nullable = true)\n",
      " |-- ANSWER3: string (nullable = true)\n",
      " |-- ANSWER4: string (nullable = true)\n",
      " |-- ANSWER5: string (nullable = true)\n",
      " |-- ANSWER6: string (nullable = true)\n",
      " |-- ANSWER7: string (nullable = true)\n",
      " |-- MOST_POSITIVE_OR_LEAST_NEGATIVE: string (nullable = true)\n",
      " |-- NEUTRAL_OR_MIDDLE_CATEGORY: string (nullable = true)\n",
      " |-- MOST_NEGATIVE_OR_LEAST_POSITIVE: string (nullable = true)\n",
      " |-- AGREE: string (nullable = true)\n",
      " |-- SCORE5: string (nullable = true)\n",
      " |-- SCORE100: string (nullable = true)\n",
      " |-- ANSCOUNT: string (nullable = true)\n",
      " |-- DEPT_E: string (nullable = true)\n",
      " |-- DEPT_F: string (nullable = true)\n",
      " |-- INDICATORID: integer (nullable = true)\n",
      " |-- INDICATORENG: string (nullable = true)\n",
      " |-- INDICATORFRA: string (nullable = true)\n",
      " |-- SUBINDICATORID: integer (nullable = true)\n",
      " |-- SUBINDICATORENG: string (nullable = true)\n",
      " |-- SUBINDICATORFRA: string (nullable = true)\n",
      "\n"
     ]
    }
   ],
   "source": [
    "df.printSchema()"
   ]
  },
  {
   "cell_type": "code",
   "execution_count": 4,
   "metadata": {},
   "outputs": [],
   "source": [
    "dropp = [\n",
    "    'DESCRIP_F',\n",
    "    'TITLE_F',\n",
    "    'DEPT_F',\n",
    "    'INDICATORFRA',\n",
    "    'SUBINDICATORFRA'\n",
    "]\n",
    "\n",
    "df = df.drop(*dropp)"
   ]
  },
  {
   "cell_type": "code",
   "execution_count": 5,
   "metadata": {},
   "outputs": [
    {
     "data": {
      "text/plain": [
       "[Row(TITLE_E=' I have the tools, technology and equipment I need to do my job.')]"
      ]
     },
     "execution_count": 5,
     "metadata": {},
     "output_type": "execute_result"
    }
   ],
   "source": [
    "def clean_title(x):\n",
    "    y = str(x).split(\".\",maxsplit=1)\n",
    "    return y[1]\n",
    "\n",
    "clean_title_udf = udf(clean_title, StringType())\n",
    "\n",
    "df = df.withColumn(\"TITLE_E\", clean_title_udf(\"TITLE_E\"))\n",
    "df.select(\"TITLE_E\").take(1)"
   ]
  },
  {
   "cell_type": "code",
   "execution_count": 6,
   "metadata": {},
   "outputs": [
    {
     "data": {
      "text/plain": [
       "[Row(QUESTION='Q01'), Row(QUESTION='Q01')]"
      ]
     },
     "execution_count": 6,
     "metadata": {},
     "output_type": "execute_result"
    }
   ],
   "source": [
    "df.select(\"QUESTION\").take(2)"
   ]
  },
  {
   "cell_type": "code",
   "execution_count": 7,
   "metadata": {},
   "outputs": [],
   "source": [
    "ls = [\n",
    "\"ANSWER1\",\n",
    "\"ANSWER2\",\n",
    "\"ANSWER3\",\n",
    "\"ANSWER4\",\n",
    "\"ANSWER5\",\n",
    "\"ANSWER6\",\n",
    "\"ANSWER7\"\n",
    "]\n",
    "\n",
    "def remove_single_char_values(x):\n",
    "    \n",
    "    if x == \" \" or x is None:\n",
    "        return int(-1)\n",
    "    else:\n",
    "        return int(x)\n",
    "\n",
    "remove_single_char_values_udf = udf(remove_single_char_values, IntegerType() )\n",
    "\n",
    "for x in ls:\n",
    "    df = df.withColumn(x, remove_single_char_values_udf(x))\n"
   ]
  },
  {
   "cell_type": "code",
   "execution_count": 8,
   "metadata": {},
   "outputs": [],
   "source": [
    "\n",
    "def remove_outlier_values(x):\n",
    "    \n",
    "    if x > 100:\n",
    "        return int(0)\n",
    "    else:\n",
    "        return int(x)\n",
    "\n",
    "remove_outlier_values_udf = udf(remove_outlier_values, IntegerType() )\n",
    "\n",
    "for x in ls:\n",
    "    df = df.withColumn(x, remove_outlier_values_udf(x))\n"
   ]
  },
  {
   "cell_type": "code",
   "execution_count": 9,
   "metadata": {},
   "outputs": [],
   "source": [
    "def remove_Question_char_values(x):\n",
    "    if x ==\" \" or x == \"\":\n",
    "        return \"ClearValue\"\n",
    "    else:\n",
    "        return str(x)\n",
    "\n",
    "remove_Question_char_values_udf = udf(remove_Question_char_values, StringType())\n",
    "\n",
    "df = df.withColumn(\"QUESTION\", remove_Question_char_values_udf(\"QUESTION\"))"
   ]
  },
  {
   "cell_type": "code",
   "execution_count": 10,
   "metadata": {},
   "outputs": [],
   "source": [
    "ls = [\n",
    "\"DEMCODE\",\n",
    "\"BYCOND\"\n",
    "]\n",
    "\n",
    "def remove_unknown_char_values(x):\n",
    "    if x == \" \" or x == \"\":\n",
    "        return \"Unknown\"\n",
    "    else:\n",
    "        return x\n",
    "\n",
    "remove_unknown_char_values_udf = udf(lambda x: \"Unknown\" if x == \" \" or x == \"\" else x, StringType())\n",
    "\n",
    "for x in ls:\n",
    "    df = df.withColumn(x, remove_unknown_char_values_udf(x))"
   ]
  },
  {
   "cell_type": "code",
   "execution_count": null,
   "metadata": {},
   "outputs": [],
   "source": [
    "ls = [\n",
    "\"MOST_POSITIVE_OR_LEAST_NEGATIVE\",\n",
    "\"NEUTRAL_OR_MIDDLE_CATEGORY\",\n",
    "\"MOST_NEGATIVE_OR_LEAST_POSITIVE\",\n",
    "\"AGREE\",\n",
    "\"ANSCOUNT\",\n",
    "\"SCORE100\",\n",
    "]\n",
    "\n",
    "def convert_to_int(x):\n",
    "    return int(x)\n",
    "\n",
    "convert_to_int_udf = udf(convert_to_int, IntegerType())\n",
    "\n",
    "for x in ls:\n",
    "    df = df.withColumn(x, convert_to_int_udf(x))"
   ]
  },
  {
   "cell_type": "code",
   "execution_count": null,
   "metadata": {},
   "outputs": [],
   "source": [
    "\n",
    "def convert_to_float(x):\n",
    "    return float(x)\n",
    "\n",
    "convert_to_float_udf = udf(convert_to_float, IntegerType())\n",
    "\n",
    "df = df.withColumn(\"SCORE5\", convert_to_float_udf(\"SCORE5\"))"
   ]
  },
  {
   "cell_type": "code",
   "execution_count": 66,
   "metadata": {},
   "outputs": [],
   "source": [
    "def LEVEL_STRING(x1, x2, x3, x4, x5):\n",
    "    return int(x1 + x2 + x3 + x4 + x5 )\n",
    "\n",
    "levels = [\n",
    "    \"LEVEL1ID\",\n",
    "    \"LEVEL2ID\",\n",
    "    \"LEVEL3ID\",\n",
    "    \"LEVEL4ID\",\n",
    "    \"LEVEL5ID\",\n",
    "]\n",
    "\n",
    "LEVEL_STRING_udf = udf(LEVEL_STRING, IntegerType())\n",
    "convert_to_string_udf = udf(lambda x: str(x), StringType())\n",
    "df = df.withColumn(\"LEVEL\", \n",
    "                        LEVEL_STRING_udf(\n",
    "                            convert_to_string_udf(\"LEVEL1ID\"),\n",
    "                            convert_to_string_udf(\"LEVEL2ID\"),\n",
    "                            convert_to_string_udf(\"LEVEL3ID\"),\n",
    "                            convert_to_string_udf(\"LEVEL4ID\"),\n",
    "                            convert_to_string_udf(\"LEVEL5ID\"),\n",
    "                        )\n",
    "                    )\n",
    "\n",
    "df.select(\n",
    "    \"LEVEL\",\n",
    "    \"LEVEL1ID\",\n",
    "    \"LEVEL2ID\",\n",
    "    \"LEVEL3ID\",\n",
    "    \"LEVEL4ID\",\n",
    "    \"LEVEL5ID\",\n",
    "    ).show(25)"
   ]
  },
  {
   "cell_type": "code",
   "execution_count": 11,
   "metadata": {},
   "outputs": [],
   "source": [
    "# df.printSchema()"
   ]
  },
  {
   "cell_type": "code",
   "execution_count": 69,
   "metadata": {},
   "outputs": [
    {
     "name": "stderr",
     "output_type": "stream",
     "text": [
      "                                                                                \r"
     ]
    },
    {
     "data": {
      "text/plain": [
       "2666586"
      ]
     },
     "execution_count": 69,
     "metadata": {},
     "output_type": "execute_result"
    }
   ],
   "source": [
    "df.count()\n"
   ]
  },
  {
   "cell_type": "code",
   "execution_count": 33,
   "metadata": {},
   "outputs": [],
   "source": [
    "df = df.filter(df.ANSWER1 >= 0).filter(df.SCORE5 <= 5).filter(df.SCORE100 <= 100)\n"
   ]
  },
  {
   "cell_type": "code",
   "execution_count": null,
   "metadata": {},
   "outputs": [],
   "source": []
  }
 ],
 "metadata": {
  "kernelspec": {
   "display_name": "Python 3.9.7 ('Pyspark-qw6muDEf')",
   "language": "python",
   "name": "python3"
  },
  "language_info": {
   "codemirror_mode": {
    "name": "ipython",
    "version": 3
   },
   "file_extension": ".py",
   "mimetype": "text/x-python",
   "name": "python",
   "nbconvert_exporter": "python",
   "pygments_lexer": "ipython3",
   "version": "3.9.7"
  },
  "orig_nbformat": 4,
  "vscode": {
   "interpreter": {
    "hash": "b53ca2469e3705f75432bb1b092023f38a474b13490c8a64a725346719ccdc92"
   }
  }
 },
 "nbformat": 4,
 "nbformat_minor": 2
}
