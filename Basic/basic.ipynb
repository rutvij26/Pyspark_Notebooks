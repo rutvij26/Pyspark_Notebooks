{
 "cells": [
  {
   "cell_type": "code",
   "execution_count": null,
   "metadata": {},
   "outputs": [],
   "source": [
    "from pyspark.sql import SparkSession\n",
    "spark = SparkSession.builder.getOrCreate()"
   ]
  },
  {
   "cell_type": "code",
   "execution_count": null,
   "metadata": {},
   "outputs": [],
   "source": [
    "spark"
   ]
  },
  {
   "cell_type": "code",
   "execution_count": null,
   "metadata": {},
   "outputs": [],
   "source": [
    "sc = spark.sparkContext"
   ]
  },
  {
   "cell_type": "code",
   "execution_count": null,
   "metadata": {},
   "outputs": [],
   "source": [
    "nums = list(range(0,1000001))"
   ]
  },
  {
   "cell_type": "code",
   "execution_count": null,
   "metadata": {},
   "outputs": [],
   "source": [
    "# RDD -> Resilient Distributed Dataframe\n",
    "\n",
    "nums_rdd = sc.parallelize(nums)\n",
    "nums_rdd"
   ]
  },
  {
   "cell_type": "code",
   "execution_count": null,
   "metadata": {},
   "outputs": [],
   "source": [
    "# nums_rdd.collect()"
   ]
  },
  {
   "cell_type": "code",
   "execution_count": null,
   "metadata": {},
   "outputs": [],
   "source": [
    "nums_rdd.take(5)"
   ]
  },
  {
   "cell_type": "code",
   "execution_count": 9,
   "metadata": {},
   "outputs": [
    {
     "data": {
      "text/plain": [
       "[0, 1, 4, 9, 16]"
      ]
     },
     "execution_count": 9,
     "metadata": {},
     "output_type": "execute_result"
    }
   ],
   "source": [
    "squared_nums_rdd = nums_rdd.map(lambda x: x**2)\n",
    "squared_nums_rdd.take(5)"
   ]
  },
  {
   "cell_type": "code",
   "execution_count": 10,
   "metadata": {},
   "outputs": [
    {
     "data": {
      "text/plain": [
       "[(0, 1), (1, 1), (4, 1), (9, 1), (16, 2)]"
      ]
     },
     "execution_count": 10,
     "metadata": {},
     "output_type": "execute_result"
    }
   ],
   "source": [
    "pairs = squared_nums_rdd.map(lambda x: (x, len(str(x))))\n",
    "pairs.take(5)"
   ]
  },
  {
   "cell_type": "code",
   "execution_count": 14,
   "metadata": {},
   "outputs": [
    {
     "data": {
      "text/plain": [
       "[(16, 2), (25, 2), (36, 2), (49, 2), (64, 2)]"
      ]
     },
     "execution_count": 14,
     "metadata": {},
     "output_type": "execute_result"
    }
   ],
   "source": [
    "even_digit_pairs = pairs.filter(lambda x: (x[1] % 2) == 0)\n",
    "even_digit_pairs.take(5)"
   ]
  },
  {
   "cell_type": "code",
   "execution_count": 17,
   "metadata": {},
   "outputs": [
    {
     "data": {
      "text/plain": [
       "[(2, 16), (2, 25), (2, 36), (2, 49), (2, 64)]"
      ]
     },
     "execution_count": 17,
     "metadata": {},
     "output_type": "execute_result"
    }
   ],
   "source": [
    "flipped_pairs = even_digit_pairs.map(lambda x: (x[1], x[0]))\n",
    "flipped_pairs.take(5)"
   ]
  },
  {
   "cell_type": "code",
   "execution_count": 18,
   "metadata": {},
   "outputs": [
    {
     "name": "stderr",
     "output_type": "stream",
     "text": [
      "                                                                                \r"
     ]
    },
    {
     "data": {
      "text/plain": [
       "[(2, <pyspark.resultiterable.ResultIterable at 0x7f79fa59cfd0>),\n",
       " (4, <pyspark.resultiterable.ResultIterable at 0x7f79fa59cc10>),\n",
       " (6, <pyspark.resultiterable.ResultIterable at 0x7f79fa5956d0>),\n",
       " (8, <pyspark.resultiterable.ResultIterable at 0x7f79fa595e50>),\n",
       " (10, <pyspark.resultiterable.ResultIterable at 0x7f79fa595f70>),\n",
       " (12, <pyspark.resultiterable.ResultIterable at 0x7f79fa5958e0>)]"
      ]
     },
     "execution_count": 18,
     "metadata": {},
     "output_type": "execute_result"
    }
   ],
   "source": [
    "grouped = flipped_pairs.groupByKey()\n",
    "grouped.take(25)"
   ]
  },
  {
   "cell_type": "code",
   "execution_count": 20,
   "metadata": {},
   "outputs": [
    {
     "data": {
      "text/plain": [
       "[(2, [16, 25, 36, 49, 64, 81]),\n",
       " (4,\n",
       "  [1024,\n",
       "   1089,\n",
       "   1156,\n",
       "   1225,\n",
       "   1296,\n",
       "   1369,\n",
       "   1444,\n",
       "   1521,\n",
       "   1600,\n",
       "   1681,\n",
       "   1764,\n",
       "   1849,\n",
       "   1936,\n",
       "   2025,\n",
       "   2116,\n",
       "   2209,\n",
       "   2304,\n",
       "   2401,\n",
       "   2500,\n",
       "   2601,\n",
       "   2704,\n",
       "   2809,\n",
       "   2916,\n",
       "   3025,\n",
       "   3136,\n",
       "   3249,\n",
       "   3364,\n",
       "   3481,\n",
       "   3600,\n",
       "   3721,\n",
       "   3844,\n",
       "   3969,\n",
       "   4096,\n",
       "   4225,\n",
       "   4356,\n",
       "   4489,\n",
       "   4624,\n",
       "   4761,\n",
       "   4900,\n",
       "   5041,\n",
       "   5184,\n",
       "   5329,\n",
       "   5476,\n",
       "   5625,\n",
       "   5776,\n",
       "   5929,\n",
       "   6084,\n",
       "   6241,\n",
       "   6400,\n",
       "   6561,\n",
       "   6724,\n",
       "   6889,\n",
       "   7056,\n",
       "   7225,\n",
       "   7396,\n",
       "   7569,\n",
       "   7744,\n",
       "   7921,\n",
       "   8100,\n",
       "   8281,\n",
       "   8464,\n",
       "   8649,\n",
       "   8836,\n",
       "   9025,\n",
       "   9216,\n",
       "   9409,\n",
       "   9604,\n",
       "   9801])]"
      ]
     },
     "execution_count": 20,
     "metadata": {},
     "output_type": "execute_result"
    }
   ],
   "source": [
    "grouped = grouped.map(lambda x: (x[0], list(x[1])))\n",
    "grouped.take(2)"
   ]
  },
  {
   "cell_type": "code",
   "execution_count": 21,
   "metadata": {},
   "outputs": [
    {
     "data": {
      "text/plain": [
       "[(2, 45.166666666666664),\n",
       " (4, 4675.5),\n",
       " (6, 471838.0),\n",
       " (8, 47204941.666666664),\n",
       " (10, 4720705565.0),\n",
       " (12, 472075391214.1667)]"
      ]
     },
     "execution_count": 21,
     "metadata": {},
     "output_type": "execute_result"
    }
   ],
   "source": [
    "averaged = grouped.map(lambda x: (x[0], sum(x[1]) / len(x[1])))\n",
    "averaged.collect()"
   ]
  },
  {
   "cell_type": "code",
   "execution_count": null,
   "metadata": {},
   "outputs": [],
   "source": []
  }
 ],
 "metadata": {
  "kernelspec": {
   "display_name": "Python 3.9.7 ('Pyspark-qw6muDEf')",
   "language": "python",
   "name": "python3"
  },
  "language_info": {
   "codemirror_mode": {
    "name": "ipython",
    "version": 3
   },
   "file_extension": ".py",
   "mimetype": "text/x-python",
   "name": "python",
   "nbconvert_exporter": "python",
   "pygments_lexer": "ipython3",
   "version": "3.9.7"
  },
  "orig_nbformat": 4,
  "vscode": {
   "interpreter": {
    "hash": "b53ca2469e3705f75432bb1b092023f38a474b13490c8a64a725346719ccdc92"
   }
  }
 },
 "nbformat": 4,
 "nbformat_minor": 2
}
